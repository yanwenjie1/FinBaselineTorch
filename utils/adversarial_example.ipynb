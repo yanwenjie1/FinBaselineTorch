{
 "cells": [
  {
   "cell_type": "markdown",
   "source": [
    "fgm = FGM(model)\n",
    "for batch_input, batch_label in data:\n",
    "    # 正常训练\n",
    "    loss = model(batch_input, batch_label)\n",
    "    loss.backward() # 反向传播，得到正常的grad\n",
    "    # 对抗训练\n",
    "    fgm.attack() # 在embedding上添加对抗扰动\n",
    "    loss_adv = model(batch_input, batch_label)\n",
    "    loss_adv.backward() # 反向传播，并在正常的grad基础上，累加对抗训练的梯度\n",
    "    fgm.restore() # 恢复embedding参数\n",
    "    # 梯度下降，更新参数\n",
    "    optimizer.step()\n",
    "    model.zero_grad()\n"
   ],
   "metadata": {
    "collapsed": false,
    "pycharm": {
     "name": "#%% md\n"
    }
   }
  },
  {
   "cell_type": "markdown",
   "source": [
    "pgd = PGD(model,emb_name='word_embeddings.',epsilon=1.0,alpha=0.3)\n",
    "K = 3\n",
    "for batch_input, batch_label in processor:\n",
    "    # 正常训练\n",
    "    loss = model(batch_input, batch_label)\n",
    "    loss.backward() # 反向传播，得到正常的grad\n",
    "    pgd.backup_grad()\n",
    "    # 对抗训练\n",
    "    for t in range(K):\n",
    "        pgd.attack(is_first_attack=(t==0)) # 在embedding上添加对抗扰动, first attack时备份param.processor\n",
    "        if t != K-1:\n",
    "            model.zero_grad()\n",
    "        else:\n",
    "            pgd.restore_grad()\n",
    "        loss_adv = model(batch_input, batch_label)\n",
    "        loss_adv.backward() # 反向传播，并在正常的grad基础上，累加对抗训练的梯度\n",
    "    pgd.restore() # 恢复embedding参数\n",
    "    # 梯度下降，更新参数\n",
    "    optimizer.step()\n",
    "    model.zero_grad()\n"
   ],
   "metadata": {
    "collapsed": false,
    "pycharm": {
     "name": "#%% md\n"
    }
   }
  },
  {
   "cell_type": "markdown",
   "source": [
    "freelb = FreeLB()\n",
    "K = 3\n",
    "for batch_input, batch_label in processor:\n",
    "    loss = freelb.attack(model,inputs,.....)\n",
    "# https://codeantenna.com/a/rqVEKQI1Zx\n"
   ],
   "metadata": {
    "collapsed": false,
    "pycharm": {
     "name": "#%% md\n"
    }
   }
  }
 ],
 "metadata": {
  "kernelspec": {
   "display_name": "Python 3",
   "language": "python",
   "name": "python3"
  },
  "language_info": {
   "codemirror_mode": {
    "name": "ipython",
    "version": 2
   },
   "file_extension": ".py",
   "mimetype": "text/x-python",
   "name": "python",
   "nbconvert_exporter": "python",
   "pygments_lexer": "ipython2",
   "version": "2.7.6"
  }
 },
 "nbformat": 4,
 "nbformat_minor": 0
}